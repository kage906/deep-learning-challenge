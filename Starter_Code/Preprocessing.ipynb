{
 "cells": [
  {
   "cell_type": "markdown",
   "metadata": {
    "colab_type": "text",
    "id": "view-in-github"
   },
   "source": [
    "<a href=\"https://colab.research.google.com/github/CLizardi/deep-learning-challenge/blob/main/Starter_Code.ipynb\" target=\"_parent\"><img src=\"https://colab.research.google.com/assets/colab-badge.svg\" alt=\"Open In Colab\"/></a>"
   ]
  },
  {
   "cell_type": "markdown",
   "metadata": {
    "id": "fscazGG3rnID"
   },
   "source": [
    "## Preprocessing"
   ]
  },
  {
   "cell_type": "code",
   "execution_count": 28,
   "metadata": {
    "colab": {
     "base_uri": "https://localhost:8080/",
     "height": 496
    },
    "id": "-fp-2P5JrnIE",
    "outputId": "8557855d-8cbf-496b-d0b9-d1075da5418a"
   },
   "outputs": [
    {
     "data": {
      "text/html": [
       "\n",
       "  <div id=\"df-798f6296-5ff1-4e23-8c5b-2f56871ee826\">\n",
       "    <div class=\"colab-df-container\">\n",
       "      <div>\n",
       "<style scoped>\n",
       "    .dataframe tbody tr th:only-of-type {\n",
       "        vertical-align: middle;\n",
       "    }\n",
       "\n",
       "    .dataframe tbody tr th {\n",
       "        vertical-align: top;\n",
       "    }\n",
       "\n",
       "    .dataframe thead th {\n",
       "        text-align: right;\n",
       "    }\n",
       "</style>\n",
       "<table border=\"1\" class=\"dataframe\">\n",
       "  <thead>\n",
       "    <tr style=\"text-align: right;\">\n",
       "      <th></th>\n",
       "      <th>EIN</th>\n",
       "      <th>NAME</th>\n",
       "      <th>APPLICATION_TYPE</th>\n",
       "      <th>AFFILIATION</th>\n",
       "      <th>CLASSIFICATION</th>\n",
       "      <th>USE_CASE</th>\n",
       "      <th>ORGANIZATION</th>\n",
       "      <th>STATUS</th>\n",
       "      <th>INCOME_AMT</th>\n",
       "      <th>SPECIAL_CONSIDERATIONS</th>\n",
       "      <th>ASK_AMT</th>\n",
       "      <th>IS_SUCCESSFUL</th>\n",
       "    </tr>\n",
       "  </thead>\n",
       "  <tbody>\n",
       "    <tr>\n",
       "      <th>0</th>\n",
       "      <td>10520599</td>\n",
       "      <td>BLUE KNIGHTS MOTORCYCLE CLUB</td>\n",
       "      <td>T10</td>\n",
       "      <td>Independent</td>\n",
       "      <td>C1000</td>\n",
       "      <td>ProductDev</td>\n",
       "      <td>Association</td>\n",
       "      <td>1</td>\n",
       "      <td>0</td>\n",
       "      <td>N</td>\n",
       "      <td>5000</td>\n",
       "      <td>1</td>\n",
       "    </tr>\n",
       "    <tr>\n",
       "      <th>1</th>\n",
       "      <td>10531628</td>\n",
       "      <td>AMERICAN CHESAPEAKE CLUB CHARITABLE TR</td>\n",
       "      <td>T3</td>\n",
       "      <td>Independent</td>\n",
       "      <td>C2000</td>\n",
       "      <td>Preservation</td>\n",
       "      <td>Co-operative</td>\n",
       "      <td>1</td>\n",
       "      <td>1-9999</td>\n",
       "      <td>N</td>\n",
       "      <td>108590</td>\n",
       "      <td>1</td>\n",
       "    </tr>\n",
       "    <tr>\n",
       "      <th>2</th>\n",
       "      <td>10547893</td>\n",
       "      <td>ST CLOUD PROFESSIONAL FIREFIGHTERS</td>\n",
       "      <td>T5</td>\n",
       "      <td>CompanySponsored</td>\n",
       "      <td>C3000</td>\n",
       "      <td>ProductDev</td>\n",
       "      <td>Association</td>\n",
       "      <td>1</td>\n",
       "      <td>0</td>\n",
       "      <td>N</td>\n",
       "      <td>5000</td>\n",
       "      <td>0</td>\n",
       "    </tr>\n",
       "    <tr>\n",
       "      <th>3</th>\n",
       "      <td>10553066</td>\n",
       "      <td>SOUTHSIDE ATHLETIC ASSOCIATION</td>\n",
       "      <td>T3</td>\n",
       "      <td>CompanySponsored</td>\n",
       "      <td>C2000</td>\n",
       "      <td>Preservation</td>\n",
       "      <td>Trust</td>\n",
       "      <td>1</td>\n",
       "      <td>10000-24999</td>\n",
       "      <td>N</td>\n",
       "      <td>6692</td>\n",
       "      <td>1</td>\n",
       "    </tr>\n",
       "    <tr>\n",
       "      <th>4</th>\n",
       "      <td>10556103</td>\n",
       "      <td>GENETIC RESEARCH INSTITUTE OF THE DESERT</td>\n",
       "      <td>T3</td>\n",
       "      <td>Independent</td>\n",
       "      <td>C1000</td>\n",
       "      <td>Heathcare</td>\n",
       "      <td>Trust</td>\n",
       "      <td>1</td>\n",
       "      <td>100000-499999</td>\n",
       "      <td>N</td>\n",
       "      <td>142590</td>\n",
       "      <td>1</td>\n",
       "    </tr>\n",
       "  </tbody>\n",
       "</table>\n",
       "</div>\n",
       "      <button class=\"colab-df-convert\" onclick=\"convertToInteractive('df-798f6296-5ff1-4e23-8c5b-2f56871ee826')\"\n",
       "              title=\"Convert this dataframe to an interactive table.\"\n",
       "              style=\"display:none;\">\n",
       "        \n",
       "  <svg xmlns=\"http://www.w3.org/2000/svg\" height=\"24px\"viewBox=\"0 0 24 24\"\n",
       "       width=\"24px\">\n",
       "    <path d=\"M0 0h24v24H0V0z\" fill=\"none\"/>\n",
       "    <path d=\"M18.56 5.44l.94 2.06.94-2.06 2.06-.94-2.06-.94-.94-2.06-.94 2.06-2.06.94zm-11 1L8.5 8.5l.94-2.06 2.06-.94-2.06-.94L8.5 2.5l-.94 2.06-2.06.94zm10 10l.94 2.06.94-2.06 2.06-.94-2.06-.94-.94-2.06-.94 2.06-2.06.94z\"/><path d=\"M17.41 7.96l-1.37-1.37c-.4-.4-.92-.59-1.43-.59-.52 0-1.04.2-1.43.59L10.3 9.45l-7.72 7.72c-.78.78-.78 2.05 0 2.83L4 21.41c.39.39.9.59 1.41.59.51 0 1.02-.2 1.41-.59l7.78-7.78 2.81-2.81c.8-.78.8-2.07 0-2.86zM5.41 20L4 18.59l7.72-7.72 1.47 1.35L5.41 20z\"/>\n",
       "  </svg>\n",
       "      </button>\n",
       "      \n",
       "  <style>\n",
       "    .colab-df-container {\n",
       "      display:flex;\n",
       "      flex-wrap:wrap;\n",
       "      gap: 12px;\n",
       "    }\n",
       "\n",
       "    .colab-df-convert {\n",
       "      background-color: #E8F0FE;\n",
       "      border: none;\n",
       "      border-radius: 50%;\n",
       "      cursor: pointer;\n",
       "      display: none;\n",
       "      fill: #1967D2;\n",
       "      height: 32px;\n",
       "      padding: 0 0 0 0;\n",
       "      width: 32px;\n",
       "    }\n",
       "\n",
       "    .colab-df-convert:hover {\n",
       "      background-color: #E2EBFA;\n",
       "      box-shadow: 0px 1px 2px rgba(60, 64, 67, 0.3), 0px 1px 3px 1px rgba(60, 64, 67, 0.15);\n",
       "      fill: #174EA6;\n",
       "    }\n",
       "\n",
       "    [theme=dark] .colab-df-convert {\n",
       "      background-color: #3B4455;\n",
       "      fill: #D2E3FC;\n",
       "    }\n",
       "\n",
       "    [theme=dark] .colab-df-convert:hover {\n",
       "      background-color: #434B5C;\n",
       "      box-shadow: 0px 1px 3px 1px rgba(0, 0, 0, 0.15);\n",
       "      filter: drop-shadow(0px 1px 2px rgba(0, 0, 0, 0.3));\n",
       "      fill: #FFFFFF;\n",
       "    }\n",
       "  </style>\n",
       "\n",
       "      <script>\n",
       "        const buttonEl =\n",
       "          document.querySelector('#df-798f6296-5ff1-4e23-8c5b-2f56871ee826 button.colab-df-convert');\n",
       "        buttonEl.style.display =\n",
       "          google.colab.kernel.accessAllowed ? 'block' : 'none';\n",
       "\n",
       "        async function convertToInteractive(key) {\n",
       "          const element = document.querySelector('#df-798f6296-5ff1-4e23-8c5b-2f56871ee826');\n",
       "          const dataTable =\n",
       "            await google.colab.kernel.invokeFunction('convertToInteractive',\n",
       "                                                     [key], {});\n",
       "          if (!dataTable) return;\n",
       "\n",
       "          const docLinkHtml = 'Like what you see? Visit the ' +\n",
       "            '<a target=\"_blank\" href=https://colab.research.google.com/notebooks/data_table.ipynb>data table notebook</a>'\n",
       "            + ' to learn more about interactive tables.';\n",
       "          element.innerHTML = '';\n",
       "          dataTable['output_type'] = 'display_data';\n",
       "          await google.colab.output.renderOutput(dataTable, element);\n",
       "          const docLink = document.createElement('div');\n",
       "          docLink.innerHTML = docLinkHtml;\n",
       "          element.appendChild(docLink);\n",
       "        }\n",
       "      </script>\n",
       "    </div>\n",
       "  </div>\n",
       "  "
      ],
      "text/plain": [
       "        EIN                                      NAME APPLICATION_TYPE  \\\n",
       "0  10520599              BLUE KNIGHTS MOTORCYCLE CLUB              T10   \n",
       "1  10531628    AMERICAN CHESAPEAKE CLUB CHARITABLE TR               T3   \n",
       "2  10547893        ST CLOUD PROFESSIONAL FIREFIGHTERS               T5   \n",
       "3  10553066            SOUTHSIDE ATHLETIC ASSOCIATION               T3   \n",
       "4  10556103  GENETIC RESEARCH INSTITUTE OF THE DESERT               T3   \n",
       "\n",
       "        AFFILIATION CLASSIFICATION      USE_CASE  ORGANIZATION  STATUS  \\\n",
       "0       Independent          C1000    ProductDev   Association       1   \n",
       "1       Independent          C2000  Preservation  Co-operative       1   \n",
       "2  CompanySponsored          C3000    ProductDev   Association       1   \n",
       "3  CompanySponsored          C2000  Preservation         Trust       1   \n",
       "4       Independent          C1000     Heathcare         Trust       1   \n",
       "\n",
       "      INCOME_AMT SPECIAL_CONSIDERATIONS  ASK_AMT  IS_SUCCESSFUL  \n",
       "0              0                      N     5000              1  \n",
       "1         1-9999                      N   108590              1  \n",
       "2              0                      N     5000              0  \n",
       "3    10000-24999                      N     6692              1  \n",
       "4  100000-499999                      N   142590              1  "
      ]
     },
     "execution_count": 28,
     "metadata": {},
     "output_type": "execute_result"
    }
   ],
   "source": [
    "# Import our dependencies\n",
    "from sklearn.model_selection import train_test_split\n",
    "from sklearn.preprocessing import StandardScaler\n",
    "import pandas as pd\n",
    "import tensorflow as tf\n",
    "\n",
    "#  Import and read the charity_data.csv.\n",
    "import pandas as pd \n",
    "application_df = pd.read_csv(\"https://static.bc-edx.com/data/dl-1-2/m21/lms/starter/charity_data.csv\")\n",
    "application_df.head()"
   ]
  },
  {
   "cell_type": "code",
   "execution_count": 29,
   "metadata": {
    "id": "IuZEjz_5rnIF"
   },
   "outputs": [],
   "source": [
    "# Drop the non-beneficial ID columns, 'EIN' and 'NAME'.\n",
    "#  YOUR CODE GOES HERE\n",
    "application_df = application_df.drop(['EIN', 'NAME'], axis=1)"
   ]
  },
  {
   "cell_type": "code",
   "execution_count": 30,
   "metadata": {
    "colab": {
     "base_uri": "https://localhost:8080/"
    },
    "id": "dt4v8Tm1rnIG",
    "outputId": "da78942a-ecd6-46d7-8b90-59cbc6572323"
   },
   "outputs": [
    {
     "name": "stdout",
     "output_type": "stream",
     "text": [
      "APPLICATION_TYPE            17\n",
      "AFFILIATION                  6\n",
      "CLASSIFICATION              71\n",
      "USE_CASE                     5\n",
      "ORGANIZATION                 4\n",
      "STATUS                       2\n",
      "INCOME_AMT                   9\n",
      "SPECIAL_CONSIDERATIONS       2\n",
      "ASK_AMT                   8747\n",
      "IS_SUCCESSFUL                2\n",
      "dtype: int64\n"
     ]
    }
   ],
   "source": [
    "# Determine the number of unique values in each column.\n",
    "#  YOUR CODE GOES HERE\n",
    "unique_counts = application_df.nunique()\n",
    "print(unique_counts)"
   ]
  },
  {
   "cell_type": "code",
   "execution_count": 31,
   "metadata": {
    "colab": {
     "base_uri": "https://localhost:8080/"
    },
    "id": "yp-wUB8xrnIG",
    "outputId": "920c0de2-a6dc-4bda-f91c-b6577b8ce28e"
   },
   "outputs": [
    {
     "name": "stdout",
     "output_type": "stream",
     "text": [
      "T3     27037\n",
      "T4      1542\n",
      "T6      1216\n",
      "T5      1173\n",
      "T19     1065\n",
      "T8       737\n",
      "T7       725\n",
      "T10      528\n",
      "T9       156\n",
      "T13       66\n",
      "T12       27\n",
      "T2        16\n",
      "T25        3\n",
      "T14        3\n",
      "T29        2\n",
      "T15        2\n",
      "T17        1\n",
      "Name: APPLICATION_TYPE, dtype: int64\n"
     ]
    }
   ],
   "source": [
    "# Look at APPLICATION_TYPE value counts for binning\n",
    "#  YOUR CODE GOES HERE\n",
    "application_counts = application_df['APPLICATION_TYPE'].value_counts()\n",
    "print(application_counts)"
   ]
  },
  {
   "cell_type": "code",
   "execution_count": 32,
   "metadata": {
    "colab": {
     "base_uri": "https://localhost:8080/"
    },
    "id": "ZqU1lew2rnIG",
    "outputId": "e3827d15-9d9d-4684-8bdd-1b424d948d02"
   },
   "outputs": [
    {
     "data": {
      "text/plain": [
       "T3       27037\n",
       "T4        1542\n",
       "T6        1216\n",
       "T5        1173\n",
       "T19       1065\n",
       "T8         737\n",
       "T7         725\n",
       "T10        528\n",
       "Other      276\n",
       "Name: APPLICATION_TYPE, dtype: int64"
      ]
     },
     "execution_count": 32,
     "metadata": {},
     "output_type": "execute_result"
    }
   ],
   "source": [
    "# Choose a cutoff value and create a list of application types to be replaced\n",
    "# use the variable name `application_types_to_replace`\n",
    "#  YOUR CODE GOES HERE\n",
    "cutoff = 500\n",
    "application_counts = application_df['APPLICATION_TYPE'].value_counts()\n",
    "application_types_to_replace = list(application_counts[application_counts < cutoff].index)\n",
    "\n",
    "# Replace in dataframe\n",
    "for app in application_types_to_replace:\n",
    "    application_df['APPLICATION_TYPE'] = application_df['APPLICATION_TYPE'].replace(app,\"Other\")\n",
    "\n",
    "# Check to make sure binning was successful\n",
    "application_df['APPLICATION_TYPE'].value_counts()"
   ]
  },
  {
   "cell_type": "code",
   "execution_count": 33,
   "metadata": {
    "colab": {
     "base_uri": "https://localhost:8080/"
    },
    "id": "ViaQqKahrnIG",
    "outputId": "570b731e-f6d4-41df-ed61-2b2f27997890"
   },
   "outputs": [
    {
     "name": "stdout",
     "output_type": "stream",
     "text": [
      "C1000    17326\n",
      "C2000     6074\n",
      "C1200     4837\n",
      "C3000     1918\n",
      "C2100     1883\n",
      "         ...  \n",
      "C4120        1\n",
      "C8210        1\n",
      "C2561        1\n",
      "C4500        1\n",
      "C2150        1\n",
      "Name: CLASSIFICATION, Length: 71, dtype: int64\n"
     ]
    }
   ],
   "source": [
    "# Look at CLASSIFICATION value counts for binning\n",
    "#  YOUR CODE GOES HERE\n",
    "classification_counts = application_df['CLASSIFICATION'].value_counts()\n",
    "print(classification_counts)"
   ]
  },
  {
   "cell_type": "code",
   "execution_count": 34,
   "metadata": {
    "colab": {
     "base_uri": "https://localhost:8080/"
    },
    "id": "cL9p4OIurnIG",
    "outputId": "034e4546-66d2-4495-8c34-6b53bcf519d4"
   },
   "outputs": [
    {
     "name": "stdout",
     "output_type": "stream",
     "text": [
      "C1000    17326\n",
      "C2000     6074\n",
      "C1200     4837\n",
      "C3000     1918\n",
      "C2100     1883\n",
      "C7000      777\n",
      "C1700      287\n",
      "C4000      194\n",
      "C5000      116\n",
      "C1270      114\n",
      "C2700      104\n",
      "C2800       95\n",
      "C7100       75\n",
      "C1300       58\n",
      "C1280       50\n",
      "C1230       36\n",
      "C1400       34\n",
      "C7200       32\n",
      "C2300       32\n",
      "C1240       30\n",
      "C8000       20\n",
      "C7120       18\n",
      "C1500       16\n",
      "C1800       15\n",
      "C6000       15\n",
      "C1250       14\n",
      "C8200       11\n",
      "C1238       10\n",
      "C1278       10\n",
      "C1235        9\n",
      "C1237        9\n",
      "C7210        7\n",
      "C2400        6\n",
      "C1720        6\n",
      "C4100        6\n",
      "C1257        5\n",
      "C1600        5\n",
      "C1260        3\n",
      "C2710        3\n",
      "C0           3\n",
      "C3200        2\n",
      "C1234        2\n",
      "C1246        2\n",
      "C1267        2\n",
      "C1256        2\n",
      "Name: CLASSIFICATION, dtype: int64\n"
     ]
    }
   ],
   "source": [
    "# You may find it helpful to look at CLASSIFICATION value counts >1\n",
    "#  YOUR CODE GOES HERE\n",
    "classification_counts = application_df['CLASSIFICATION'].value_counts()\n",
    "classification_counts_filtered = classification_counts[classification_counts > 1]\n",
    "print(classification_counts_filtered)"
   ]
  },
  {
   "cell_type": "code",
   "execution_count": 36,
   "metadata": {
    "colab": {
     "base_uri": "https://localhost:8080/"
    },
    "id": "BW2Xj4prrnIH",
    "outputId": "829dcb18-d1c5-4c8e-a1ec-b127aa69fa08"
   },
   "outputs": [
    {
     "data": {
      "text/plain": [
       "C1000    17326\n",
       "C2000     6074\n",
       "C1200     4837\n",
       "Other     2261\n",
       "C3000     1918\n",
       "C2100     1883\n",
       "Name: CLASSIFICATION, dtype: int64"
      ]
     },
     "execution_count": 36,
     "metadata": {},
     "output_type": "execute_result"
    }
   ],
   "source": [
    "# Choose a cutoff value and create a list of classifications to be replaced\n",
    "# use the variable name `classifications_to_replace`\n",
    "#  YOUR CODE GOES HERE\n",
    "cutoff = 1000\n",
    "classification_counts = application_df['CLASSIFICATION'].value_counts()\n",
    "classifications_to_replace = list(classification_counts[classification_counts < cutoff].index)\n",
    "\n",
    "# Replace in dataframe\n",
    "for cls in classifications_to_replace:\n",
    "    application_df['CLASSIFICATION'] = application_df['CLASSIFICATION'].replace(cls,\"Other\")\n",
    "    \n",
    "# Check to make sure binning was successful\n",
    "application_df['CLASSIFICATION'].value_counts()"
   ]
  },
  {
   "cell_type": "code",
   "execution_count": 37,
   "metadata": {
    "colab": {
     "base_uri": "https://localhost:8080/"
    },
    "id": "aJzlLroRrnIH",
    "outputId": "4fe729b9-ffb7-4c02-8a03-b3b08d441ff8"
   },
   "outputs": [
    {
     "name": "stdout",
     "output_type": "stream",
     "text": [
      "   STATUS  ASK_AMT  IS_SUCCESSFUL  APPLICATION_TYPE_Other  \\\n",
      "0       1     5000              1                       0   \n",
      "1       1   108590              1                       0   \n",
      "2       1     5000              0                       0   \n",
      "3       1     6692              1                       0   \n",
      "4       1   142590              1                       0   \n",
      "\n",
      "   APPLICATION_TYPE_T10  APPLICATION_TYPE_T19  APPLICATION_TYPE_T3  \\\n",
      "0                     1                     0                    0   \n",
      "1                     0                     0                    1   \n",
      "2                     0                     0                    0   \n",
      "3                     0                     0                    1   \n",
      "4                     0                     0                    1   \n",
      "\n",
      "   APPLICATION_TYPE_T4  APPLICATION_TYPE_T5  APPLICATION_TYPE_T6  ...  \\\n",
      "0                    0                    0                    0  ...   \n",
      "1                    0                    0                    0  ...   \n",
      "2                    0                    1                    0  ...   \n",
      "3                    0                    0                    0  ...   \n",
      "4                    0                    0                    0  ...   \n",
      "\n",
      "   INCOME_AMT_1-9999  INCOME_AMT_10000-24999  INCOME_AMT_100000-499999  \\\n",
      "0                  0                       0                         0   \n",
      "1                  1                       0                         0   \n",
      "2                  0                       0                         0   \n",
      "3                  0                       1                         0   \n",
      "4                  0                       0                         1   \n",
      "\n",
      "   INCOME_AMT_10M-50M  INCOME_AMT_1M-5M  INCOME_AMT_25000-99999  \\\n",
      "0                   0                 0                       0   \n",
      "1                   0                 0                       0   \n",
      "2                   0                 0                       0   \n",
      "3                   0                 0                       0   \n",
      "4                   0                 0                       0   \n",
      "\n",
      "   INCOME_AMT_50M+  INCOME_AMT_5M-10M  SPECIAL_CONSIDERATIONS_N  \\\n",
      "0                0                  0                         1   \n",
      "1                0                  0                         1   \n",
      "2                0                  0                         1   \n",
      "3                0                  0                         1   \n",
      "4                0                  0                         1   \n",
      "\n",
      "   SPECIAL_CONSIDERATIONS_Y  \n",
      "0                         0  \n",
      "1                         0  \n",
      "2                         0  \n",
      "3                         0  \n",
      "4                         0  \n",
      "\n",
      "[5 rows x 44 columns]\n"
     ]
    }
   ],
   "source": [
    "# Convert categorical data to numeric with `pd.get_dummies`\n",
    "#  YOUR CODE GOES HERE\n",
    "application_encoded = pd.get_dummies(application_df)\n",
    "print(application_encoded.head())"
   ]
  },
  {
   "cell_type": "code",
   "execution_count": 38,
   "metadata": {
    "id": "9Ahjs-jbrnIH"
   },
   "outputs": [],
   "source": [
    "# Split our preprocessed data into our features and target arrays\n",
    "#  YOUR CODE GOES HERE\n",
    "X = application_encoded.drop('IS_SUCCESSFUL', axis=1).values\n",
    "y = application_encoded['IS_SUCCESSFUL'].values\n",
    "\n",
    "# Split the preprocessed data into a training and testing dataset\n",
    "#  YOUR CODE GOES HERE\n",
    "X_train, X_test, y_train, y_test = train_test_split(X, y, random_state=42, test_size=0.2)"
   ]
  },
  {
   "cell_type": "code",
   "execution_count": 39,
   "metadata": {
    "id": "B-vL0z8crnIH"
   },
   "outputs": [],
   "source": [
    "# Create a StandardScaler instances\n",
    "scaler = StandardScaler()\n",
    "\n",
    "# Fit the StandardScaler\n",
    "X_scaler = scaler.fit(X_train)\n",
    "\n",
    "# Scale the data\n",
    "X_train_scaled = X_scaler.transform(X_train)\n",
    "X_test_scaled = X_scaler.transform(X_test)"
   ]
  },
  {
   "cell_type": "markdown",
   "metadata": {
    "id": "I0iJtOQDrnII"
   },
   "source": [
    "## Compile, Train and Evaluate the Model"
   ]
  },
  {
   "cell_type": "code",
   "execution_count": 40,
   "metadata": {
    "colab": {
     "base_uri": "https://localhost:8080/"
    },
    "id": "MhGm2HePrnII",
    "outputId": "ed9fa4e4-805c-4684-ebcd-95e1a1d82f92"
   },
   "outputs": [
    {
     "name": "stdout",
     "output_type": "stream",
     "text": [
      "Model: \"sequential_5\"\n",
      "_________________________________________________________________\n",
      " Layer (type)                Output Shape              Param #   \n",
      "=================================================================\n",
      " dense_15 (Dense)            (None, 128)               5632      \n",
      "                                                                 \n",
      " dense_16 (Dense)            (None, 64)                8256      \n",
      "                                                                 \n",
      " dense_17 (Dense)            (None, 1)                 65        \n",
      "                                                                 \n",
      "=================================================================\n",
      "Total params: 13,953\n",
      "Trainable params: 13,953\n",
      "Non-trainable params: 0\n",
      "_________________________________________________________________\n"
     ]
    }
   ],
   "source": [
    "# Define the model - deep neural net, i.e., the number of input features and hidden nodes for each layer.\n",
    "#  YOUR CODE GOES HERE\n",
    "nn = tf.keras.models.Sequential()\n",
    "\n",
    "# First hidden layer\n",
    "#  YOUR CODE GOES HERE\n",
    "nn.add(tf.keras.layers.Dense(units=128, activation='relu'))\n",
    "\n",
    "# Second hidden layer\n",
    "#  YOUR CODE GOES HERE\n",
    "nn.add(tf.keras.layers.Dense(units=64, activation='relu'))\n",
    "\n",
    "# Output layer\n",
    "#  YOUR CODE GOES HERE\n",
    "nn.add(tf.keras.layers.Dense(units=1, activation='sigmoid'))\n",
    "\n",
    "# Compile the model\n",
    "nn.compile(loss='binary_crossentropy', optimizer='adam', metrics=['accuracy'])\n",
    "\n",
    "# Build the model by passing a batch of data through it\n",
    "nn.build(input_shape=(None, len(X_train[0])))\n",
    "\n",
    "# Check the structure of the model\n",
    "nn.summary()"
   ]
  },
  {
   "cell_type": "code",
   "execution_count": 41,
   "metadata": {
    "id": "vjIykX6JrnII"
   },
   "outputs": [],
   "source": [
    "# Compile the model\n",
    "#  YOUR CODE GOES HERE\n",
    "nn.compile(loss='binary_crossentropy', optimizer='adam', metrics=['accuracy'])"
   ]
  },
  {
   "cell_type": "code",
   "execution_count": 42,
   "metadata": {
    "colab": {
     "base_uri": "https://localhost:8080/"
    },
    "id": "sjM20JMKrnII",
    "outputId": "6f12a997-96d1-4ca5-c39a-be37f3c366c9"
   },
   "outputs": [
    {
     "name": "stdout",
     "output_type": "stream",
     "text": [
      "Epoch 1/100\n",
      "858/858 [==============================] - 2s 1ms/step - loss: 0.5671 - accuracy: 0.7248\n",
      "Epoch 2/100\n",
      "858/858 [==============================] - 1s 2ms/step - loss: 0.5541 - accuracy: 0.7286\n",
      "Epoch 3/100\n",
      "858/858 [==============================] - 1s 1ms/step - loss: 0.5509 - accuracy: 0.7304\n",
      "Epoch 4/100\n",
      "858/858 [==============================] - 1s 1ms/step - loss: 0.5497 - accuracy: 0.7306\n",
      "Epoch 5/100\n",
      "858/858 [==============================] - 1s 1ms/step - loss: 0.5483 - accuracy: 0.7331\n",
      "Epoch 6/100\n",
      "858/858 [==============================] - 1s 1ms/step - loss: 0.5474 - accuracy: 0.7329\n",
      "Epoch 7/100\n",
      "858/858 [==============================] - 1s 1ms/step - loss: 0.5465 - accuracy: 0.7333\n",
      "Epoch 8/100\n",
      "858/858 [==============================] - 1s 1ms/step - loss: 0.5461 - accuracy: 0.7334\n",
      "Epoch 9/100\n",
      "858/858 [==============================] - 1s 1ms/step - loss: 0.5447 - accuracy: 0.7342\n",
      "Epoch 10/100\n",
      "858/858 [==============================] - 1s 1ms/step - loss: 0.5450 - accuracy: 0.7345\n",
      "Epoch 11/100\n",
      "858/858 [==============================] - 1s 1ms/step - loss: 0.5444 - accuracy: 0.7356\n",
      "Epoch 12/100\n",
      "858/858 [==============================] - 1s 1ms/step - loss: 0.5440 - accuracy: 0.7361\n",
      "Epoch 13/100\n",
      "858/858 [==============================] - 1s 1ms/step - loss: 0.5435 - accuracy: 0.7348\n",
      "Epoch 14/100\n",
      "858/858 [==============================] - 1s 2ms/step - loss: 0.5429 - accuracy: 0.7356\n",
      "Epoch 15/100\n",
      "858/858 [==============================] - 1s 1ms/step - loss: 0.5424 - accuracy: 0.7358\n",
      "Epoch 16/100\n",
      "858/858 [==============================] - 1s 1ms/step - loss: 0.5421 - accuracy: 0.7354\n",
      "Epoch 17/100\n",
      "858/858 [==============================] - 1s 1ms/step - loss: 0.5418 - accuracy: 0.7356\n",
      "Epoch 18/100\n",
      "858/858 [==============================] - 1s 1ms/step - loss: 0.5412 - accuracy: 0.7375\n",
      "Epoch 19/100\n",
      "858/858 [==============================] - 1s 1ms/step - loss: 0.5410 - accuracy: 0.7369\n",
      "Epoch 20/100\n",
      "858/858 [==============================] - 1s 1ms/step - loss: 0.5411 - accuracy: 0.7367\n",
      "Epoch 21/100\n",
      "858/858 [==============================] - 1s 1ms/step - loss: 0.5409 - accuracy: 0.7365\n",
      "Epoch 22/100\n",
      "858/858 [==============================] - 1s 1ms/step - loss: 0.5402 - accuracy: 0.7380\n",
      "Epoch 23/100\n",
      "858/858 [==============================] - 1s 1ms/step - loss: 0.5401 - accuracy: 0.7369\n",
      "Epoch 24/100\n",
      "858/858 [==============================] - 1s 1ms/step - loss: 0.5397 - accuracy: 0.7372\n",
      "Epoch 25/100\n",
      "858/858 [==============================] - 1s 2ms/step - loss: 0.5400 - accuracy: 0.7366\n",
      "Epoch 26/100\n",
      "858/858 [==============================] - 1s 1ms/step - loss: 0.5390 - accuracy: 0.7381\n",
      "Epoch 27/100\n",
      "858/858 [==============================] - 1s 1ms/step - loss: 0.5395 - accuracy: 0.7377\n",
      "Epoch 28/100\n",
      "858/858 [==============================] - 1s 1ms/step - loss: 0.5390 - accuracy: 0.7381\n",
      "Epoch 29/100\n",
      "858/858 [==============================] - 1s 1ms/step - loss: 0.5387 - accuracy: 0.7387\n",
      "Epoch 30/100\n",
      "858/858 [==============================] - 1s 1ms/step - loss: 0.5387 - accuracy: 0.7376\n",
      "Epoch 31/100\n",
      "858/858 [==============================] - 1s 1ms/step - loss: 0.5384 - accuracy: 0.7376\n",
      "Epoch 32/100\n",
      "858/858 [==============================] - 1s 1ms/step - loss: 0.5380 - accuracy: 0.7377\n",
      "Epoch 33/100\n",
      "858/858 [==============================] - 1s 1ms/step - loss: 0.5384 - accuracy: 0.7396\n",
      "Epoch 34/100\n",
      "858/858 [==============================] - 1s 1ms/step - loss: 0.5380 - accuracy: 0.7383\n",
      "Epoch 35/100\n",
      "858/858 [==============================] - 1s 1ms/step - loss: 0.5376 - accuracy: 0.7374\n",
      "Epoch 36/100\n",
      "858/858 [==============================] - 1s 2ms/step - loss: 0.5378 - accuracy: 0.7387\n",
      "Epoch 37/100\n",
      "858/858 [==============================] - 1s 1ms/step - loss: 0.5375 - accuracy: 0.7383\n",
      "Epoch 38/100\n",
      "858/858 [==============================] - 1s 1ms/step - loss: 0.5374 - accuracy: 0.7380\n",
      "Epoch 39/100\n",
      "858/858 [==============================] - 1s 1ms/step - loss: 0.5369 - accuracy: 0.7391\n",
      "Epoch 40/100\n",
      "858/858 [==============================] - 1s 1ms/step - loss: 0.5368 - accuracy: 0.7387\n",
      "Epoch 41/100\n",
      "858/858 [==============================] - 1s 1ms/step - loss: 0.5372 - accuracy: 0.7393\n",
      "Epoch 42/100\n",
      "858/858 [==============================] - 1s 1ms/step - loss: 0.5366 - accuracy: 0.7389\n",
      "Epoch 43/100\n",
      "858/858 [==============================] - 1s 1ms/step - loss: 0.5367 - accuracy: 0.7389\n",
      "Epoch 44/100\n",
      "858/858 [==============================] - 1s 1ms/step - loss: 0.5370 - accuracy: 0.7392\n",
      "Epoch 45/100\n",
      "858/858 [==============================] - 1s 1ms/step - loss: 0.5368 - accuracy: 0.7387\n",
      "Epoch 46/100\n",
      "858/858 [==============================] - 1s 1ms/step - loss: 0.5366 - accuracy: 0.7399\n",
      "Epoch 47/100\n",
      "858/858 [==============================] - 1s 2ms/step - loss: 0.5362 - accuracy: 0.7390\n",
      "Epoch 48/100\n",
      "858/858 [==============================] - 1s 1ms/step - loss: 0.5362 - accuracy: 0.7395\n",
      "Epoch 49/100\n",
      "858/858 [==============================] - 1s 1ms/step - loss: 0.5360 - accuracy: 0.7397\n",
      "Epoch 50/100\n",
      "858/858 [==============================] - 1s 1ms/step - loss: 0.5359 - accuracy: 0.7386\n",
      "Epoch 51/100\n",
      "858/858 [==============================] - 1s 1ms/step - loss: 0.5355 - accuracy: 0.7399\n",
      "Epoch 52/100\n",
      "858/858 [==============================] - 1s 1ms/step - loss: 0.5364 - accuracy: 0.7392\n",
      "Epoch 53/100\n",
      "858/858 [==============================] - 1s 1ms/step - loss: 0.5366 - accuracy: 0.7398\n",
      "Epoch 54/100\n",
      "858/858 [==============================] - 1s 1ms/step - loss: 0.5353 - accuracy: 0.7399\n",
      "Epoch 55/100\n",
      "858/858 [==============================] - 1s 1ms/step - loss: 0.5355 - accuracy: 0.7406\n",
      "Epoch 56/100\n",
      "858/858 [==============================] - 1s 1ms/step - loss: 0.5350 - accuracy: 0.7399\n",
      "Epoch 57/100\n",
      "858/858 [==============================] - 1s 1ms/step - loss: 0.5369 - accuracy: 0.7398\n",
      "Epoch 58/100\n",
      "858/858 [==============================] - 1s 1ms/step - loss: 0.5352 - accuracy: 0.7398\n",
      "Epoch 59/100\n",
      "858/858 [==============================] - 1s 2ms/step - loss: 0.5351 - accuracy: 0.7403\n",
      "Epoch 60/100\n",
      "858/858 [==============================] - 1s 1ms/step - loss: 0.5348 - accuracy: 0.7407\n",
      "Epoch 61/100\n",
      "858/858 [==============================] - 1s 1ms/step - loss: 0.5352 - accuracy: 0.7410\n",
      "Epoch 62/100\n",
      "858/858 [==============================] - 1s 1ms/step - loss: 0.5351 - accuracy: 0.7395\n",
      "Epoch 63/100\n",
      "858/858 [==============================] - 1s 1ms/step - loss: 0.5349 - accuracy: 0.7400\n",
      "Epoch 64/100\n",
      "858/858 [==============================] - 1s 1ms/step - loss: 0.5344 - accuracy: 0.7400\n",
      "Epoch 65/100\n",
      "858/858 [==============================] - 1s 1ms/step - loss: 0.5343 - accuracy: 0.7391\n",
      "Epoch 66/100\n",
      "858/858 [==============================] - 1s 1ms/step - loss: 0.5346 - accuracy: 0.7398\n",
      "Epoch 67/100\n",
      "858/858 [==============================] - 1s 1ms/step - loss: 0.5345 - accuracy: 0.7403\n",
      "Epoch 68/100\n",
      "858/858 [==============================] - 1s 1ms/step - loss: 0.5347 - accuracy: 0.7401\n",
      "Epoch 69/100\n",
      "858/858 [==============================] - 1s 1ms/step - loss: 0.5342 - accuracy: 0.7407\n",
      "Epoch 70/100\n",
      "858/858 [==============================] - 1s 2ms/step - loss: 0.5339 - accuracy: 0.7408\n",
      "Epoch 71/100\n",
      "858/858 [==============================] - 1s 1ms/step - loss: 0.5344 - accuracy: 0.7401\n",
      "Epoch 72/100\n",
      "858/858 [==============================] - 1s 1ms/step - loss: 0.5345 - accuracy: 0.7402\n",
      "Epoch 73/100\n",
      "858/858 [==============================] - 1s 1ms/step - loss: 0.5339 - accuracy: 0.7398\n",
      "Epoch 74/100\n",
      "858/858 [==============================] - 1s 1ms/step - loss: 0.5340 - accuracy: 0.7405\n",
      "Epoch 75/100\n",
      "858/858 [==============================] - 1s 1ms/step - loss: 0.5341 - accuracy: 0.7402\n",
      "Epoch 76/100\n",
      "858/858 [==============================] - 1s 1ms/step - loss: 0.5336 - accuracy: 0.7402\n",
      "Epoch 77/100\n",
      "858/858 [==============================] - 1s 1ms/step - loss: 0.5335 - accuracy: 0.7404\n",
      "Epoch 78/100\n",
      "858/858 [==============================] - 1s 1ms/step - loss: 0.5336 - accuracy: 0.7406\n",
      "Epoch 79/100\n",
      "858/858 [==============================] - 1s 1ms/step - loss: 0.5338 - accuracy: 0.7407\n",
      "Epoch 80/100\n",
      "858/858 [==============================] - 1s 1ms/step - loss: 0.5332 - accuracy: 0.7401\n",
      "Epoch 81/100\n",
      "858/858 [==============================] - 1s 2ms/step - loss: 0.5337 - accuracy: 0.7406\n",
      "Epoch 82/100\n",
      "858/858 [==============================] - 1s 1ms/step - loss: 0.5332 - accuracy: 0.7408\n",
      "Epoch 83/100\n",
      "858/858 [==============================] - 1s 1ms/step - loss: 0.5337 - accuracy: 0.7412\n",
      "Epoch 84/100\n",
      "858/858 [==============================] - 1s 1ms/step - loss: 0.5336 - accuracy: 0.7407\n",
      "Epoch 85/100\n",
      "858/858 [==============================] - 1s 1ms/step - loss: 0.5332 - accuracy: 0.7408\n",
      "Epoch 86/100\n",
      "858/858 [==============================] - 1s 1ms/step - loss: 0.5332 - accuracy: 0.7404\n",
      "Epoch 87/100\n",
      "858/858 [==============================] - 1s 1ms/step - loss: 0.5334 - accuracy: 0.7408\n",
      "Epoch 88/100\n",
      "858/858 [==============================] - 1s 1ms/step - loss: 0.5336 - accuracy: 0.7399\n",
      "Epoch 89/100\n",
      "858/858 [==============================] - 1s 1ms/step - loss: 0.5328 - accuracy: 0.7408\n",
      "Epoch 90/100\n",
      "858/858 [==============================] - 1s 1ms/step - loss: 0.5330 - accuracy: 0.7410\n",
      "Epoch 91/100\n",
      "858/858 [==============================] - 1s 1ms/step - loss: 0.5329 - accuracy: 0.7404\n",
      "Epoch 92/100\n",
      "858/858 [==============================] - 1s 1ms/step - loss: 0.5334 - accuracy: 0.7399\n",
      "Epoch 93/100\n",
      "858/858 [==============================] - 1s 1ms/step - loss: 0.5329 - accuracy: 0.7403\n",
      "Epoch 94/100\n",
      "858/858 [==============================] - 1s 1ms/step - loss: 0.5327 - accuracy: 0.7406\n",
      "Epoch 95/100\n",
      "858/858 [==============================] - 1s 1ms/step - loss: 0.5332 - accuracy: 0.7404\n",
      "Epoch 96/100\n",
      "858/858 [==============================] - 1s 1ms/step - loss: 0.5328 - accuracy: 0.7412\n",
      "Epoch 97/100\n",
      "858/858 [==============================] - 1s 1ms/step - loss: 0.5329 - accuracy: 0.7406\n",
      "Epoch 98/100\n",
      "858/858 [==============================] - 1s 1ms/step - loss: 0.5331 - accuracy: 0.7402\n",
      "Epoch 99/100\n",
      "858/858 [==============================] - 1s 1ms/step - loss: 0.5329 - accuracy: 0.7412\n",
      "Epoch 100/100\n",
      "858/858 [==============================] - 1s 1ms/step - loss: 0.5330 - accuracy: 0.7408\n"
     ]
    }
   ],
   "source": [
    "# Train the model\n",
    "#  YOUR CODE GOES HERE\n",
    "fit_model = nn.fit(X_train_scaled, y_train, epochs=100)\n"
   ]
  },
  {
   "cell_type": "code",
   "execution_count": 43,
   "metadata": {
    "colab": {
     "base_uri": "https://localhost:8080/"
    },
    "id": "pPbXtvSernII",
    "outputId": "ede4aaa9-d430-4013-b9b3-08f8cd2156a8"
   },
   "outputs": [
    {
     "name": "stdout",
     "output_type": "stream",
     "text": [
      "215/215 - 0s - loss: 0.5733 - accuracy: 0.7277 - 276ms/epoch - 1ms/step\n",
      "Loss: 0.573316216468811, Accuracy: 0.7276967763900757\n"
     ]
    }
   ],
   "source": [
    "# Evaluate the model using the test data\n",
    "model_loss, model_accuracy = nn.evaluate(X_test_scaled,y_test,verbose=2)\n",
    "print(f\"Loss: {model_loss}, Accuracy: {model_accuracy}\")"
   ]
  },
  {
   "cell_type": "code",
   "execution_count": 46,
   "metadata": {
    "id": "TwGGnqT7rnII"
   },
   "outputs": [],
   "source": [
    "# Export our model to HDF5 file\n",
    "#  YOUR CODE GOES HERE\n",
    "nn.save(\"model.h5\")"
   ]
  },
  {
   "cell_type": "code",
   "execution_count": null,
   "metadata": {
    "id": "flAYJ8bR0Zjv"
   },
   "outputs": [],
   "source": []
  }
 ],
 "metadata": {
  "colab": {
   "include_colab_link": true,
   "provenance": []
  },
  "kernelspec": {
   "display_name": "Python 3 (ipykernel)",
   "language": "python",
   "name": "python3"
  },
  "language_info": {
   "codemirror_mode": {
    "name": "ipython",
    "version": 3
   },
   "file_extension": ".py",
   "mimetype": "text/x-python",
   "name": "python",
   "nbconvert_exporter": "python",
   "pygments_lexer": "ipython3",
   "version": "3.7.7"
  },
  "vscode": {
   "interpreter": {
    "hash": "31f2aee4e71d21fbe5cf8b01ff0e069b9275f58929596ceb00d14d90e3e16cd6"
   }
  }
 },
 "nbformat": 4,
 "nbformat_minor": 1
}
